{
 "cells": [
  {
   "cell_type": "code",
   "execution_count": null,
   "id": "1a4e435e-eb14-4f63-bbc1-9586f0debabb",
   "metadata": {},
   "outputs": [],
   "source": [
    "import matplotlib.pyplot as plt\n",
    "import pandas as pd\n",
    "from sklearn.inspection import DecisionBoundaryDisplay\n",
    "from sklearn.neighbors import KNeighborsClassifier, RadiusNeighborsClassifier"
   ]
  },
  {
   "cell_type": "code",
   "execution_count": null,
   "id": "ad3e228e-95bd-4bda-8f58-1d85e6e72de3",
   "metadata": {},
   "outputs": [],
   "source": [
    "df = pd.read_csv(\"D:/estela/src/cilia_quantification.csv\")\n",
    "df"
   ]
  },
  {
   "cell_type": "code",
   "execution_count": null,
   "id": "25be7ce5-396d-4228-8c2b-fd75f8d2c6b6",
   "metadata": {},
   "outputs": [],
   "source": [
    "df_classes = df.dropna(subset=[\"classes\"])\n",
    "df_classes"
   ]
  },
  {
   "cell_type": "code",
   "execution_count": null,
   "id": "92d2b257-f09f-428d-963c-4314a7d661b9",
   "metadata": {},
   "outputs": [],
   "source": [
    "X = df_classes[[\"solidity\", \"axis_minor_length\"]]\n",
    "y = df_classes[\"classes\"]\n",
    "\n",
    "neigh_uniform = KNeighborsClassifier(n_neighbors=3)\n",
    "neigh_uniform.fit(X, y)\n",
    "KNeighborsClassifier"
   ]
  },
  {
   "cell_type": "code",
   "execution_count": null,
   "id": "3c0864fa-3e56-4c6c-a85f-b0d79edc0987",
   "metadata": {},
   "outputs": [],
   "source": [
    "neigh_distance = RadiusNeighborsClassifier(radius=5.0)\n",
    "neigh_distance.fit(X, y)\n",
    "RadiusNeighborsClassifier"
   ]
  },
  {
   "cell_type": "code",
   "execution_count": null,
   "id": "4b2b7ea6-2ffc-4af7-9aaf-d7b251ad4168",
   "metadata": {},
   "outputs": [],
   "source": [
    "_, axs = plt.subplots(ncols=2, figsize=(12, 5))\n",
    "\n",
    "for ax, weights in zip(axs, (\"uniform\", \"distance\")):\n",
    "    disp = DecisionBoundaryDisplay.from_estimator(\n",
    "        neigh_uniform,\n",
    "        X,\n",
    "        response_method=\"predict\",\n",
    "        plot_method=\"pcolormesh\",\n",
    "        xlabel=X.columns[0],\n",
    "        ylabel=X.columns[1],\n",
    "        shading=\"auto\",\n",
    "        alpha=0.5,\n",
    "        ax=ax,\n",
    "    )\n",
    "    scatter = disp.ax_.scatter(X.iloc[:, 0], X.iloc[:, 1], edgecolors=\"k\")\n",
    "    disp.ax_.legend(\n",
    "        scatter.legend_elements()[0],\n",
    "        y,\n",
    "        loc=\"lower left\",\n",
    "        title=\"Classes\",\n",
    "    )\n",
    "    _ = disp.ax_.set_title(\n",
    "        f\"3-Class classification\\n(k={neigh_uniform.n_neighbors}, weights={weights!r})\"\n",
    "    )\n",
    "\n",
    "plt.show()"
   ]
  }
 ],
 "metadata": {
  "kernelspec": {
   "display_name": "Python 3 (ipykernel)",
   "language": "python",
   "name": "python3"
  },
  "language_info": {
   "codemirror_mode": {
    "name": "ipython",
    "version": 3
   },
   "file_extension": ".py",
   "mimetype": "text/x-python",
   "name": "python",
   "nbconvert_exporter": "python",
   "pygments_lexer": "ipython3",
   "version": "3.11.8"
  }
 },
 "nbformat": 4,
 "nbformat_minor": 5
}
