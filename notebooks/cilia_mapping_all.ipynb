{
 "cells": [
  {
   "cell_type": "markdown",
   "metadata": {},
   "source": [
    "# Cilia mapping of the whole dataset\n",
    "The purpose of this notebook is to map all cilia from our dataset and visualise them with seaborn graphs. For this, we will concatanate all images in a single dataframe."
   ]
  },
  {
   "cell_type": "code",
   "execution_count": null,
   "metadata": {},
   "outputs": [],
   "source": [
    "from aicsimageio import AICSImage\n",
    "from morphocilia.io import load_rescaled_channel\n",
    "from morphocilia.classifier import scale_columns, classify_cilia\n",
    "from morphocilia.segmenter import (\n",
    "    cilia_segmenter_cleaner,\n",
    "    get_region_map,\n",
    "    segment_cd13,\n",
    "    segment_opn,\n",
    ")\n",
    "from morphocilia.quantifier import cilia_props_table\n",
    "from morphocilia.region_mapper import get_regions\n",
    "from pathlib import Path\n",
    "from skimage.measure import regionprops_table\n",
    "import pandas as pd"
   ]
  },
  {
   "cell_type": "code",
   "execution_count": null,
   "metadata": {},
   "outputs": [],
   "source": [
    "DATA_DIR = Path(\"../data\")\n",
    "filepaths = (\n",
    "    DATA_DIR / \"20231011_e18_cd13_opn_arl13.lif\",\n",
    "    DATA_DIR / \"20231025_p1_cd13_opn_arl13b.lif\",\n",
    "    DATA_DIR / \"20231122_p15_cd13_opn_arl13b.lif\",\n",
    ")"
   ]
  },
  {
   "cell_type": "code",
   "execution_count": null,
   "metadata": {},
   "outputs": [],
   "source": [
    "scenes = []\n",
    "for file in filepaths:\n",
    "    if file.suffix != \".lif\":\n",
    "        continue\n",
    "\n",
    "    file_handle = AICSImage(file)\n",
    "\n",
    "    for scene in file_handle.scenes:\n",
    "        print(scene)\n",
    "        file_handle.set_scene(scene)\n",
    "        if file_handle.dims[\"Z\"][0] <= 1:\n",
    "            continue\n",
    "\n",
    "        print(file_handle.dims)\n",
    "        scenes.append((file, scene))"
   ]
  },
  {
   "cell_type": "code",
   "execution_count": null,
   "metadata": {},
   "outputs": [],
   "source": [
    "df_all = pd.DataFrame()\n",
    "for image_path, scene in scenes:\n",
    "    cilia_channel = load_rescaled_channel(\n",
    "        image_path,\n",
    "        scene,\n",
    "        1,\n",
    "    )\n",
    "    opn_channel = load_rescaled_channel(\n",
    "        image_path,\n",
    "        scene,\n",
    "        2,\n",
    "    )\n",
    "    cd13_channel = load_rescaled_channel(\n",
    "        image_path,\n",
    "        scene,\n",
    "        3,\n",
    "    )\n",
    "\n",
    "    labelled_prediction = cilia_segmenter_cleaner(cilia_channel)\n",
    "    opn_mask = segment_opn(opn_channel)\n",
    "    cd13_mask = segment_cd13(cd13_channel)\n",
    "    region_map = get_region_map(cd13_mask, opn_mask)\n",
    "\n",
    "    this_df = cilia_props_table(labelled_prediction, cilia_channel)\n",
    "    this_df[\"image_name\"] = image_path\n",
    "    this_df[\"scene_name\"] = scene\n",
    "    this_df[[\"region\", \"all_regions\"]] = get_regions(\n",
    "        labelled_prediction, region_map\n",
    "    )[[\"region\", \"all_regions\"]]\n",
    "\n",
    "    df_all = pd.concat([df_all, this_df], ignore_index=True)\n",
    "df_all"
   ]
  },
  {
   "cell_type": "code",
   "execution_count": null,
   "metadata": {},
   "outputs": [],
   "source": [
    "def get_color(kind):\n",
    "    if kind == \"elongated\":\n",
    "        return 1\n",
    "    elif kind == \"fibroblastic\":\n",
    "        return 2\n",
    "    elif kind == \"looped\":\n",
    "        return 3\n",
    "    elif kind == \"uncertain\":\n",
    "        return 4\n",
    "    else:\n",
    "        return 5"
   ]
  },
  {
   "cell_type": "code",
   "execution_count": null,
   "metadata": {},
   "outputs": [],
   "source": [
    "df_all[[\"scaled_solidity\", \"scaled_axis_minor_length\"]] = scale_columns(\n",
    "    df_all[[\"solidity\", \"axis_minor_length\"]]\n",
    ")\n",
    "\n",
    "df_all[\"prediction\"] = classify_cilia(\n",
    "    df_all[[\"scaled_solidity\", \"scaled_axis_minor_length\"]]\n",
    ")\n",
    "\n",
    "df_all[\"prediction_int\"] = df_all.prediction.apply(get_color)\n",
    "\n",
    "df_all[\"stage\"] = df_all[\"image_name\"].apply(lambda x: x.stem.split(\"_\")[1])\n",
    "\n",
    "df_all"
   ]
  },
  {
   "cell_type": "code",
   "execution_count": null,
   "metadata": {},
   "outputs": [],
   "source": [
    "df_all.to_csv(\"cilia_mapping_all.csv\", index=False)"
   ]
  },
  {
   "cell_type": "code",
   "execution_count": null,
   "metadata": {},
   "outputs": [],
   "source": [
    "import seaborn as sns"
   ]
  },
  {
   "cell_type": "code",
   "execution_count": null,
   "metadata": {},
   "outputs": [],
   "source": [
    "g = sns.FacetGrid(\n",
    "    df_all.groupby([\"stage\", \"scene_name\", \"region\"])\n",
    "    .prediction.value_counts()\n",
    "    .to_frame()\n",
    "    .reset_index(),\n",
    "    col=\"region\",\n",
    "    row=\"prediction\",\n",
    "    sharey=\"row\",\n",
    ")\n",
    "g.map_dataframe(sns.swarmplot, x=\"stage\", y=\"count\")"
   ]
  },
  {
   "cell_type": "markdown",
   "metadata": {},
   "source": [
    "The results looks a bit odd. There seems to be no NA and CD13+ regions in E18 and P15 stages. We will need to check how the regionmap segmentation looks for those stages. Besides, there seems to be too many uncertain and fibroblastic cilia, which will make it problematic when normalising the cilia per region (done below)."
   ]
  },
  {
   "cell_type": "code",
   "execution_count": null,
   "metadata": {},
   "outputs": [],
   "source": [
    "df_counts = (\n",
    "    df_all.groupby([\"stage\", \"scene_name\", \"region\"])\n",
    "    .prediction.value_counts()\n",
    "    .to_frame()\n",
    "    .reset_index()\n",
    ")\n",
    "\n",
    "a = df_counts.groupby([\"stage\", \"scene_name\", \"region\"])[\"count\"].transform(\n",
    "    \"sum\"\n",
    ")\n",
    "df_counts[\"relative_per_region\"] = df_counts[\"count\"].div(a)\n",
    "df_counts"
   ]
  },
  {
   "cell_type": "code",
   "execution_count": null,
   "metadata": {},
   "outputs": [],
   "source": [
    "g = sns.FacetGrid(\n",
    "    df_counts, col=\"region\", row=\"prediction\", hue=\"scene_name\", sharey=\"row\"\n",
    ")\n",
    "g.map_dataframe(sns.swarmplot, x=\"stage\", y=\"relative_per_region\")\n",
    "g.add_legend()"
   ]
  },
  {
   "cell_type": "markdown",
   "metadata": {},
   "source": [
    "The colors seem to be repeated because some image names are the same for different stages. It only makes sense to look at them when looking at individual stages. In any case, it is too soon to draw any conclusions since there seems to be something wrong with the regionmap segmentation."
   ]
  }
 ],
 "metadata": {
  "kernelspec": {
   "display_name": "cilia",
   "language": "python",
   "name": "python3"
  },
  "language_info": {
   "codemirror_mode": {
    "name": "ipython",
    "version": 3
   },
   "file_extension": ".py",
   "mimetype": "text/x-python",
   "name": "python",
   "nbconvert_exporter": "python",
   "pygments_lexer": "ipython3",
   "version": "3.11.8"
  }
 },
 "nbformat": 4,
 "nbformat_minor": 2
}
