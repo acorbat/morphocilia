{
 "cells": [
  {
   "cell_type": "markdown",
   "id": "cfeebe7b-dd06-4a87-a79a-7471b7784c02",
   "metadata": {},
   "source": [
    "## Cilia quantification\n",
    "The purpose of this notebook is to implement scikit image regionprops to populate a table with the characteristics of each segmented cilia."
   ]
  },
  {
   "cell_type": "code",
   "execution_count": null,
   "id": "238ffb2e-a77d-4c57-8e34-08e24336549f",
   "metadata": {
    "tags": []
   },
   "outputs": [],
   "source": [
    "import matplotlib.pyplot as plt\n",
    "import napari\n",
    "import numpy as np\n",
    "import pandas as pd\n",
    "from readlif.reader import LifFile\n",
    "from skimage.exposure import rescale_intensity\n",
    "from skimage.io import imread\n",
    "from skimage.measure import regionprops_table\n",
    "import seaborn as sns\n",
    "from morphocilia.io import lifloader"
   ]
  },
  {
   "cell_type": "code",
   "execution_count": null,
   "id": "ef6c347a-e628-46aa-80d0-9e0ad527467e",
   "metadata": {
    "tags": []
   },
   "outputs": [],
   "source": [
    "img = lifloader(\n",
    "    \"D:/estela/data/microscopy/leica_stellaris/20231025_p1_cd13_opn_arl13b/20231025_p1_cd13_opn_arl13b.lif\",\n",
    "    5,\n",
    ")\n",
    "cilia_channel = img[1]\n",
    "labelled_prediction = imread(\"D:/estela/src/labelled_prediction.tif\")\n",
    "classes_for_training = imread(\"D:/estela/src/classes_for_training.tif\")\n",
    "\n",
    "viewer = napari.Viewer()\n",
    "viewer.add_image(cilia_channel)\n",
    "viewer.add_labels(labelled_prediction, opacity=1)\n",
    "viewer.add_labels(classes_for_training, opacity=1)\n",
    "napari.utils.nbscreenshot(viewer)"
   ]
  },
  {
   "cell_type": "code",
   "execution_count": null,
   "id": "ecbc8922-d572-4e82-9463-7f7b0f6030a1",
   "metadata": {
    "tags": []
   },
   "outputs": [],
   "source": [
    "def intensity_median(mask, intensity_image):\n",
    "    return np.median(intensity_image[mask])"
   ]
  },
  {
   "cell_type": "code",
   "execution_count": null,
   "id": "e656e7ce-3019-43e6-88ad-ff3a548d8e98",
   "metadata": {
    "tags": []
   },
   "outputs": [],
   "source": [
    "props = regionprops_table(\n",
    "    labelled_prediction,\n",
    "    cilia_channel,\n",
    "    properties=[\n",
    "        \"label\",\n",
    "        \"area\",\n",
    "        \"axis_major_length\",\n",
    "        \"axis_minor_length\",\n",
    "        \"intensity_max\",\n",
    "        \"solidity\",\n",
    "    ],\n",
    "    extra_properties=[intensity_median],\n",
    ")\n",
    "data = pd.DataFrame(props)\n",
    "data"
   ]
  },
  {
   "cell_type": "code",
   "execution_count": null,
   "id": "a80b717d-addc-4dc3-afdd-c6afa0b309dc",
   "metadata": {},
   "outputs": [],
   "source": [
    "def parse_classes(class_number):\n",
    "    if class_number == 1:\n",
    "        return \"elongated\"\n",
    "    elif class_number == 2:\n",
    "        return \"looped\"\n",
    "    elif class_number == 3:\n",
    "        return \"fibroblastic\"\n",
    "    elif class_number == 0:\n",
    "        return \"NA\"\n",
    "    else:\n",
    "        raise ValueError"
   ]
  },
  {
   "cell_type": "code",
   "execution_count": null,
   "id": "82cb8608-9542-4ec8-a685-019fc4f1ac47",
   "metadata": {
    "tags": []
   },
   "outputs": [],
   "source": [
    "props = regionprops_table(\n",
    "    labelled_prediction,\n",
    "    classes_for_training,\n",
    "    properties=[\"label\", \"intensity_max\"],\n",
    ")\n",
    "data_classes = pd.DataFrame(props).rename(columns={\"intensity_max\": \"classes\"})\n",
    "data_classes[\"classes\"] = data_classes[\"classes\"].apply(parse_classes)\n",
    "data_classes"
   ]
  },
  {
   "cell_type": "code",
   "execution_count": null,
   "id": "c4c4231b-3422-4e45-b64f-40a6a07f6b14",
   "metadata": {
    "tags": []
   },
   "outputs": [],
   "source": [
    "complete_dataset = data.merge(right=data_classes, on=\"label\")\n",
    "complete_dataset"
   ]
  },
  {
   "cell_type": "code",
   "execution_count": null,
   "id": "e1de3883-21ac-45c6-aca2-2c00a7bacf33",
   "metadata": {
    "tags": []
   },
   "outputs": [],
   "source": [
    "sns.pairplot(data)"
   ]
  },
  {
   "cell_type": "code",
   "execution_count": null,
   "id": "de11bf47-c525-4965-9bf1-74e3283a84a0",
   "metadata": {
    "tags": []
   },
   "outputs": [],
   "source": [
    "sns.pairplot(\n",
    "    complete_dataset.query(\"classes != 'NA'\").query(\"area < 25000\"),\n",
    "    hue=\"classes\",\n",
    "    plot_kws={\"alpha\": 0.4},\n",
    ")"
   ]
  },
  {
   "cell_type": "code",
   "execution_count": null,
   "id": "def70566-e791-4e48-97cc-9c627b1e68e9",
   "metadata": {},
   "outputs": [],
   "source": [
    "complete_dataset.to_csv(\"cilia_quantification.csv\", index=False)"
   ]
  },
  {
   "cell_type": "markdown",
   "id": "13212ae1-3f06-4448-baf5-e6701513ff71",
   "metadata": {},
   "source": [
    "# Tests"
   ]
  },
  {
   "cell_type": "code",
   "execution_count": null,
   "id": "ca81fe81-832b-40cc-a940-7bd3ee8f715c",
   "metadata": {
    "tags": []
   },
   "outputs": [],
   "source": [
    "complete_dataset.query(\"axis_major_length > 60\")"
   ]
  },
  {
   "cell_type": "code",
   "execution_count": null,
   "id": "053ca6e3-7b44-4c22-b465-8ff9b94117eb",
   "metadata": {
    "tags": []
   },
   "outputs": [],
   "source": [
    "complete_dataset.loc[complete_dataset[\"area\"].argmax()]"
   ]
  }
 ],
 "metadata": {
  "kernelspec": {
   "display_name": "Python 3 (ipykernel)",
   "language": "python",
   "name": "python3"
  },
  "language_info": {
   "codemirror_mode": {
    "name": "ipython",
    "version": 3
   },
   "file_extension": ".py",
   "mimetype": "text/x-python",
   "name": "python",
   "nbconvert_exporter": "python",
   "pygments_lexer": "ipython3",
   "version": "3.11.8"
  }
 },
 "nbformat": 4,
 "nbformat_minor": 5
}
